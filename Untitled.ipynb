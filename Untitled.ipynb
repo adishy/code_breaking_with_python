{
 "cells": [
  {
   "cell_type": "markdown",
   "id": "4593c8e4",
   "metadata": {},
   "source": [
    "# Python Project 1: Code-breaking with Python\n",
    "\n",
    "### Overview\n",
    "\n",
    "The I.M.F (Impossible Mission Force) has been tracking the suspicious activity of some extremely shady people for some time now, and we believe that this group is planning something big and dangerous. What's worse is that we have evidence that they may act upon these nasty ideas soon. I.M.F agents have intercepted the group's communication systems and have figured out that they have been exchanging a lot of messages that are encrypted using an unconventional technique called the [\"Ceaser cipher\"](https://en.wikipedia.org/wiki/Caesar_cipher). As the I.M.F's top cryptographer, your mission, _should you choose to accept it_, is to write some Python code that breaks their encryption so that I.M.F agents can successfully penetrate their operation and **save lives**."
   ]
  },
  {
   "cell_type": "markdown",
   "id": "ef14f711",
   "metadata": {},
   "source": [
    "### Part 1: Critical, top secret information about the encryption scheme\n",
    "\n",
    "* Ceaser ciphers have their origins in ancient Rome, when messages were physically written on parchment and carried by messengers on horseback. These were often the last line of defense if the messenger was captured, as the text in the message would be meaningless to the reader. The good news, for us, is that this encryption scheme is pretty simple to understand, and will probably be no trouble at all for the I.M.F's top cryptography expert, you!\n",
    "\n",
    "* To encrypt messages using this scheme, we take the following steps:\n",
    "    * Each letter in the original message (called \"plaintext\" in cryptography terminology) is numbered according to its position in the alphabet of the language the message is written in. In English, this would be `1 - 26` (or `0 - 25`, if you are a programmer), where `1` represents the first letter of the alphabet ('A') and `26` represents the last letter of the alphabet ('Z').\n",
    "    * Then, we pick a random integer `k` and add this integer to each of the indices of the letters in our message. The new indices we obtain indicate the index of the each of the letters to substitute in our original, that constitutes our encrypted message (called \"ciphertext\"). This integer is also referred to as the \"shift\", since it shifts one letter to another by its value.\n",
    "    \n",
    "    * An example one of our agents decrypted in the field:\n",
    "\n",
    "    | Message | Indices | Shift | Encrypted |\n",
    "    | ------- | ------- | ----- | --------- |\n",
    "    | H       | 8       | +2    | J         |\n",
    "    | E       | 5       | +2    | G         |\n",
    "    | L       | 11      | +2    | N         |\n",
    "    | L       | 11      | +2    | N         |\n",
    "    | O       | 14      | +2    | Q         |\n",
    "\n",
    "    Here, the group had selected a shift of `2` to encrypt their message, shifting each of the letters of the original message as shown.\n",
    "\n",
    "* A problem you may notice here, is that the random integer, `k` may be greater than the number of letters in the alphabet. In this case, you would \"wrap around\" the alphabet once you encounter the last letter and continue counting from the first letter.   \n",
    "    * Say the shift (`k`) that was chosen was `27`. In this case, the shifts would be performed as follows:\n",
    "     \n",
    "    | Message | Indices | Shift | Encrypted |\n",
    "    | ------- | ------- | ----- | --------- |\n",
    "    | H       | 8       | +27   | I         |\n",
    "    | E       | 5       | +27   | F         |\n",
    "    | L       | 11      | +27   | M         |\n",
    "    | L       | 11      | +27   | M         |\n",
    "    | O       | 14      | +27   | P         |\n",
    "    \n",
    "    When adding `27` to `H`, we encounter `Z` `18` letters in front - at this point, we wrap around back to `A` and count the remaining `9` letters forward, getting `I` as our result. This process is repeated for all the letters as before.\n",
    "\n",
    "**The following information was obtained by several of I.M.F's best field agents and some of them even gave their lives to get this information out. Treat this with the utmost importance!**\n",
    "   * Your code will have to account for the \"wrap around\" behavior to correctly decode many of the messages. Our field agents inform us that they heard the words _\"Python modulo operator\"_ many times when investigating within the circles that members of the group hang out with. Perhaps this is a clue to decrypting their messages more easily!\n",
    "\n",
    "   * One of our top field agents, Ethan Hunt, managed to infiltrate the group and extract some critical information from one of their top members. Here's what he managed to find out:\n",
    "       * All the messages the group has exchanged have been in English. All the words used in the messages are also `in` the dictionary. This information may enable you to devise a way to figure out when you've successfully decrypted the message.\n",
    "       * They do not use any punctuation marks or non-alphabetical symbols except the space character (\" \").\n",
    "       * The ciphertext contains both upper and lower case letters as a red-herring. The group actually writes all their messages entirely in lowercase - we expect your code to decode the messages correctly, despite this trickery!\n",
    "       \n",
    "   * Our agent's cover was unfortunately blown before he was able to intercept the shifts corresponding to the ciphertext messages, but he managed to inform us that each of the messages has a different shift. The code you write will have to deduce the shifts corresponding to each message automatically.\n"
   ]
  },
  {
   "cell_type": "markdown",
   "id": "cadf4282",
   "metadata": {},
   "source": [
    "### Part 2: Some crucial Python secrets\n",
    "\n",
    "* As you may have realized, you will need a way to represent letters as numbers in Python, to find out the indices of each letter of the word and then shift them.\n",
    "* Fortunately for us, this is already standardized way called [\"ASCII\"](https://www.youtube.com/watch?v=zB85kTs-sEw). that maps letters and symbols into numbers, [which you can see in a table like this](https://www.asciitable.com/).\n",
    "* Python makes it really easy for us to convert letters to numbers and vice versa.\n",
    "    * You can use the `ord()` method to convert a character to its ASCII value\n",
    "    * You can use the `chr()` method to convert an integer to a character, based on the ASCII table"
   ]
  },
  {
   "cell_type": "code",
   "execution_count": 1,
   "id": "26840922",
   "metadata": {},
   "outputs": [
    {
     "name": "stdout",
     "output_type": "stream",
     "text": [
      "ASCII value of A is: 65\n",
      "Character corresponding to: 65 is: A\n"
     ]
    }
   ],
   "source": [
    "# Convert a character to its ASCII value (integer)\n",
    "character = 'A'\n",
    "print(\"ASCII value of\", character, \"is:\", ord(character))\n",
    "\n",
    "# Convert an integer to a character based on the ASCII value\n",
    "ascii_value = 65\n",
    "print(\"Character corresponding to:\", ascii_value, \"is:\", chr(ascii_value))"
   ]
  },
  {
   "cell_type": "markdown",
   "id": "8591341d",
   "metadata": {},
   "source": [
    "### Part 3: Tips\n",
    "\n",
    "* You will have to use most of the Python concepts you have learned so far such as variables, conditional statements, loops (both while and for), functions and many types of operators.\n",
    "\n",
    "* There will be several new concepts you need to learn in order to correctly implement the decryption code. You are free to use any resources you like to look up how to do the things you do not know, or are unsure of. Sites such as StackOverflow, Wikipedia and YouTube are very good resources. Searching for \"&lt;result you want to achieve&gt; python\" is usually a great starting point. \n",
    "\n",
    "* Go through each step of the project closely, in order. Each stage is a stepping stone towards putting together the program you need to reveal the mysterious encrypted messages.\n",
    "\n",
    "* This project includes some tests that will tell you if your code works correctly. Remember, you are **not** restricted to using _only_ these tests for debugging your code. You are free to (and probably should) experiment / write your own tests. You may also test your code elsewhere, such as with a Python debugger like the one in Visual Studio Code. "
   ]
  },
  {
   "cell_type": "markdown",
   "id": "d1ed7845",
   "metadata": {},
   "source": [
    "### Project Helper Code\n",
    "* As head of cryptography at the I.M.F, you have a whole squad of junior cryptographers at your disposal. While they don't know how to break the encryption scheme, they have tried their best to help you. They have written some helpful tests for you will be use to ensure the correctness of your implementations.\n",
    "* These tests are already being run automatically, when you run the cell containing your implementation for each step. They will tell you if your code works correctly or if there are cases where it will not. **Pay very close attention to what the output says as it will be valuable debugging information**! \n",
    "\n",
    "* You can safely ignore the code in this section."
   ]
  },
  {
   "cell_type": "code",
   "execution_count": 10,
   "id": "3951f6c1",
   "metadata": {},
   "outputs": [],
   "source": [
    "import project_1_tests"
   ]
  },
  {
   "cell_type": "markdown",
   "id": "ee57ddc0",
   "metadata": {},
   "source": [
    "## Project Code:\n",
    "\n",
    "### Step 1: Converting a letter into its \"natural\" index based on its position in the alphabet\n",
    "\n",
    "* One of the first things we need to do is to decrypt the messages is to change an letter into it corresponding index (starting at 0 for 'A' - 25 for 'Z')."
   ]
  },
  {
   "cell_type": "code",
   "execution_count": 3,
   "id": "d9e9c4d7",
   "metadata": {},
   "outputs": [
    {
     "name": "stdout",
     "output_type": "stream",
     "text": [
      "❌ Your implementation produced incorrect output for: b\n",
      "Expected output: 1\n",
      "Output generated: 0\n"
     ]
    }
   ],
   "source": [
    "################################################\n",
    "\n",
    "# * This function takes a *letter* (str) as its only parameters.\n",
    "# * This function returns an integer value corresponding to the index of the letter in the English alphabet\n",
    "# * This function can assume it will only receive a *lowercase* letter\n",
    "\n",
    "def convert_to_natural_index(letter):\n",
    "    # You should change this code to produce the correct output.\n",
    "    return 0\n",
    "\n",
    "################################################\n",
    "\n",
    "################################################\n",
    "# This is a test for the code you have implemented.\n",
    "\n",
    "project_1_tests.test_convert_to_natural_index(convert_to_natural_index)\n",
    "\n",
    "################################################"
   ]
  },
  {
   "cell_type": "markdown",
   "id": "0dd893da",
   "metadata": {},
   "source": [
    "### Step 2: Shift a letter by any given 'k' to encrypt the letter\n",
    "* The next step is to figure out a way to find the encrypted letter that corresponds to the shift `k.\n",
    "* Refer to Parts 1 and 2 to get an idea about how to shift a letter (it has to work for *any* possible integer shift!)\n",
    "* Hint: You should try to use the previous function (once it has been correctly implemented) to help you in this step."
   ]
  },
  {
   "cell_type": "code",
   "execution_count": 4,
   "id": "5b3c9b4b",
   "metadata": {},
   "outputs": [
    {
     "name": "stdout",
     "output_type": "stream",
     "text": [
      "❌❌ Your implementation produced incorrect output for: z (shift: 0)\n",
      "Expected output: z\n",
      "Output generated: a\n"
     ]
    }
   ],
   "source": [
    "################################################\n",
    "\n",
    "# * This function takes a *letter* (str) and a shift value *k* (integer) as parameters\n",
    "# * This function returns a letter (str) that has been shifted by the integer value specified\n",
    "# * This function can assume it will only receive a *lowercase* letter\n",
    "\n",
    "def shift_letter_by_k(letter, k):\n",
    "    # You should change this code to produce the correct output.\n",
    "    return 'a'\n",
    "\n",
    "################################################\n",
    "\n",
    "################################################\n",
    "# This is a test for the code you have implemented.\n",
    "\n",
    "project_1_tests.test_shift_letter_by_k(shift_letter_by_k)\n",
    "\n",
    "################################################"
   ]
  },
  {
   "cell_type": "markdown",
   "id": "640241e7",
   "metadata": {},
   "source": [
    "### Step 3: Encrypt an entire word!\n",
    "* Now it is possible to encrypt an entire _word_ using the function we just implemented.\n",
    "* Here, a word can contain both uppercase and lowercase letters. You will have to figure out a way to correctly work around this!"
   ]
  },
  {
   "cell_type": "code",
   "execution_count": 5,
   "id": "204418ba",
   "metadata": {},
   "outputs": [
    {
     "name": "stdout",
     "output_type": "stream",
     "text": [
      "❌ Your implementation produced incorrect output for word: \"ss\" (shift: 7)\n",
      "Expected output: zz\n",
      "Output generated: ss\n"
     ]
    }
   ],
   "source": [
    "################################################\n",
    "\n",
    "# * This function takes a *word* (str) and a shift value *k* (integer) as parameters\n",
    "# * This function returns a completely encrypted word which has each of its letters shifted by the specified amount\n",
    "# * This function could receive words which have some uppercase and lowercase letters and your code will have to account\n",
    "#   for this.\n",
    "\n",
    "def encrypt_word(word, k):\n",
    "    # You should change this code to produce the correct output.\n",
    "    encrypted_word = word\n",
    "    return word\n",
    "\n",
    "################################################\n",
    "\n",
    "################################################\n",
    "# This is a test for the code you have implemented.\n",
    "\n",
    "project_1_tests.test_encrypt_word(encrypt_word)\n",
    "\n",
    "################################################"
   ]
  },
  {
   "cell_type": "markdown",
   "id": "8b44c61e",
   "metadata": {},
   "source": [
    "### Step 4: Encrypt sentences\n",
    "* You should now use the function above that can encrypt words to also encrypt entire sentences.\n",
    "* Remember, the sentences the group uses are quite peculiar: they do not use any non-alphabetical characters, except (\" \") but the letters within some words are in both uppercase and lowercase.\n",
    "* Your code will have to:\n",
    "    1. `split` the sentence into a list of words\n",
    "    2. Encrypt each word\n",
    "    3. Return a `list` of encrypted words"
   ]
  },
  {
   "cell_type": "code",
   "execution_count": 6,
   "id": "c451cfb4",
   "metadata": {},
   "outputs": [
    {
     "name": "stdout",
     "output_type": "stream",
     "text": [
      "❌❌ Your implementation produced incorrect output for: this is an example (shift: 0)\n",
      "Expected output: [\n",
      "   \"this\",\n",
      "   \"is\",\n",
      "   \"an\",\n",
      "   \"example\"\n",
      "]\n",
      "Output generated: []\n"
     ]
    }
   ],
   "source": [
    "################################################\n",
    "\n",
    "# * This function takes a *sentence* (str) and a shift value *k* (integer) as parameters\n",
    "# * This function returns a completely encrypted sentence (str) which has each \n",
    "#   of its words (and therefore the letters within each word) shifted by the specified amount\n",
    "# * This function could receive sentences which have some words with uppercase and lowercase letters and your \n",
    "#   code will have to account for this.\n",
    "# * You will also have to figure out a method to change a string with words separated by the space character into a list\n",
    "#   of words. You should search online about how to do this correctly in Python.\n",
    "\n",
    "def encrypt_sentence(sentence, k):\n",
    "    # You should change this code to produce the correct output.\n",
    "    encrypted_sentence = []\n",
    "    return encrypted_sentence\n",
    "\n",
    "################################################\n",
    "\n",
    "################################################\n",
    "# This is a test for the code you have implemented.\n",
    "\n",
    "project_1_tests.test_encrypt_sentence(encrypt_sentence)\n",
    "\n",
    "################################################"
   ]
  },
  {
   "cell_type": "markdown",
   "id": "99f0d8d8",
   "metadata": {},
   "source": [
    "### Step 5: Deciphering all the encrypted messages\n",
    "* Whew! Now that you have done all this work to really understand the encryption scheme, we can finally get to the task of decrypting all the group's messages.\n",
    "* All the messages we have intercepted are stored as a `list` in the variable `encrypted_messages`. The ciphertext of each of the intercepted messages is shown below."
   ]
  },
  {
   "cell_type": "code",
   "execution_count": 9,
   "id": "724b4fe3",
   "metadata": {},
   "outputs": [
    {
     "name": "stdout",
     "output_type": "stream",
     "text": [
      "[\n",
      "   \"hPUt id ipAz FjthixDc bPgz\",\n",
      "   \"ekY gHyurAzkre\",\n",
      "   \"rc bcH kcffM opCiH Wh hvs WAt kwZZ bSJSf pFSoY HVwG sbqfMDHWcB gqVsas\",\n",
      "   \"zv dolU dpSS dl tlla avkhf xblzapvu thyr\",\n",
      "   \"qeB jbbQFkd Fp Fk qEB xCqBokLlk\",\n",
      "   \"qSbhSF Dzono Og igIoz\",\n",
      "   \"flHO iBA Pu H kPmMLYlUa OvbzL aopZ aPtl\",\n",
      "   \"RGYZ zOsK CK mUz ZUU jXatQ GTJ sGJk G ruz uL tUOyK yU znK vUroik igsk yTuuvotm gTj ck GrSuyZ muz IgAmnZ\",\n",
      "   \"xibu XJmM xf fbu BU Uif nffujoh\",\n",
      "   \"vd gZuD SGd aDrs rMZbJr\",\n",
      "   \"cqnBN bwjLtb jAn yAncCh panjC cqxdpQ Hxd QjEn Cx jmVrC cQjc\",\n",
      "   \"sLzz LhapuN HuK tVyl WsVaaPun wSLhzL\",\n",
      "   \"yMnX NX f wjfQqD jAnq Uqfs nx Ny sty\",\n",
      "   \"ekY haz zNK cuxrJ TkKJy Zu hk inGTMkj\",\n",
      "   \"syub Cn Cm linnChA uHx nBY jyIJfY uly nBy JlIvFyg\",\n",
      "   \"qm MlaC rFC dyic zmkzq YPC gl njyac uc ugjj rUccr rfc JmaYrgml rm KGqJcYb rFc NMjgac\",\n",
      "   \"cQnw jc cqn yjAcH fn frUu yDc OJubn cajlTnAb Rw Cqn yXltncb xo NEnahxWn cqnan\",\n",
      "   \"vjg koh CiGPVu YKnn fghkpKVgna vcMg vJCv dckv\",\n",
      "   \"wJci lxAA eGdqpqaN qT Dc dJG igPxA IwdJvw\",\n",
      "   \"IoKR DRkd Sc qYsxq Dy lO k rEqo zbYLVow\",\n",
      "   \"za uf ue awMk iQ tMhq m bXMz rad Ftmf\",\n",
      "   \"jWpv ku kpecRcdng qh fgeKFkpI dgVyggP ucxkpI qpg cpf oCpa\",\n",
      "   \"fn fruu nGYuxRc cqrb jwm ydc Bxvn ngyuXmrwP Cajltnab Rw xwUH bxvN xo CQNra yxltncB\",\n",
      "   \"Lzwq OadD tW jwSdDq jwsdDq tmkq ljqAfy Lg ksnW Wnwjqgfw\",\n",
      "   \"Mi QbylY cm nbY Lyuf viGV KOymNcih gulE\",\n",
      "   \"bm WmS lmr Ilmu yZmsr msp njyl oscQrGML kypi\",\n",
      "   \"UV p dhz UVa OlYl shZa aPtl\",\n",
      "   \"tgogodgT K ycu vtAKpI vq ngCf cyca vjquG rguma koh cIGpvU\",\n",
      "   \"vO FlHo NYlHA qvi vU nLaaPun ypk vM aoLt\",\n",
      "   \"awMK ea EuZOq kag PA zaf wzAi Ftue Ue ftQ bMdf Ar fTQ bxmz fTMf ue MOFgmxXk sqzUge\",\n",
      "   \"BpmZm Qa Vw wvm jwuJ\",\n",
      "   \"Dro lyWl Sc ofobigRobo\",\n",
      "   \"swep sdwP dks MqaoPeKJ IWNG\",\n",
      "   \"yG kphkNvTCvgf Vjg Uwrrna EJckPU qh UqoG gNgevTke ECt hcEVqtkGu\",\n",
      "   \"yg OcPCIgf vq Rwv kp uqOG eqfg vjcv yknn qxgtNqcF Vjg dCvvgTkgU CpF oCmg vJgo gzrNqfg\",\n",
      "   \"Zmmk zmmK zmmk ctcPwuFCPc yr mlaC\",\n",
      "   \"ab jnl gB fGbc Vg\",\n",
      "   \"rira orGGre jr pnA gNxR PbageBY bs guR pNe eRZBgryL Naq QEVIr vG nALjUreR Jr JNAG\",\n",
      "   \"H OBuKylK aOvbzhuk WvyaHiSL iVtiz dpAo tpukz vM Aolpy vDU\",\n",
      "   \"bpm mfxmKbMl IuWCvB WN zIlqiBqwV nitTwcb qA pcoM\",\n",
      "   \"hvwG kwZz FSozzm PFwbu OPcih hvS qvobus kS fSeiwfs hc TwL HvwBUg\",\n",
      "   \"UibU Jt sfBmmz bnbajOh\",\n",
      "   \"fQH cqjwt Hxd PUjm hxd jPaNn fRcQ cqRB YUjw\",\n",
      "   \"mdq iQ mxx eQf CgqefuaZ Ymdw\",\n",
      "   \"noFbyhgryl\",\n",
      "   \"RmKmppmU oscqrgml KyPI\",\n",
      "   \"zUsUxxuc oz oY ZNkT\",\n",
      "   \"fbrP KyVjv jErTbj Nzcc efk Sv nrID wfivMvI nv jyflCu vrK JfFe\"\n",
      "]\n"
     ]
    }
   ],
   "source": [
    "encrypted_messages = project_1_tests.get_encrypted_messages()"
   ]
  },
  {
   "cell_type": "markdown",
   "id": "6760ccab",
   "metadata": {},
   "source": []
  },
  {
   "cell_type": "code",
   "execution_count": 7,
   "id": "46a4426d",
   "metadata": {},
   "outputs": [
    {
     "name": "stdout",
     "output_type": "stream",
     "text": [
      "Does the English dictionary contain the word \"something\": True\n"
     ]
    }
   ],
   "source": [
    "dictionary = project_1_tests.load_dictionary()\n",
    "\n",
    "# You can use the dictionary by using the \"in\" operator\n",
    "# Remember, this operator return True if the dictionary contains the word and False if it does not \n",
    "# Example:\n",
    "word = \"something\"\n",
    "print(\"Does the English dictionary contain the word\", f\"\\\"{word}\\\":\", word in dictionary)"
   ]
  },
  {
   "cell_type": "code",
   "execution_count": null,
   "id": "6413faf1",
   "metadata": {},
   "outputs": [],
   "source": [
    "################################################\n",
    "\n",
    "# * This function takes a *list* of *encrypted messages* as its only parameter\n",
    "# * This function returns a *list* of completely *decrypted messages*\n",
    "# * You will also have to figure out a method to change a string with words separated by the space character into a list\n",
    "#   of words. You should search online about how to do this correctly in Python.\n",
    "\n",
    "def encrypt_sentence(sentence, k):\n",
    "    # You should change this code to produce the correct output.\n",
    "    encrypted_sentence = []\n",
    "    return encrypted_sentence\n",
    "\n",
    "################################################\n",
    "\n",
    "################################################\n",
    "# This is a test for the code you have implemented.\n",
    "\n",
    "project_1_tests.test_encrypt_sentence(encrypt_sentence)\n",
    "\n",
    "################################################"
   ]
  },
  {
   "cell_type": "code",
   "execution_count": null,
   "id": "662e576e",
   "metadata": {},
   "outputs": [],
   "source": []
  }
 ],
 "metadata": {
  "kernelspec": {
   "display_name": "Python 3 (ipykernel)",
   "language": "python",
   "name": "python3"
  },
  "language_info": {
   "codemirror_mode": {
    "name": "ipython",
    "version": 3
   },
   "file_extension": ".py",
   "mimetype": "text/x-python",
   "name": "python",
   "nbconvert_exporter": "python",
   "pygments_lexer": "ipython3",
   "version": "3.9.7"
  }
 },
 "nbformat": 4,
 "nbformat_minor": 5
}
