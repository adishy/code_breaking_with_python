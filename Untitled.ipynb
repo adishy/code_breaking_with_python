{
 "cells": [
  {
   "cell_type": "markdown",
   "id": "4593c8e4",
   "metadata": {},
   "source": [
    "# Python Project 1: Code-breaking with Python\n",
    "\n",
    "### Overview\n",
    "\n",
    "The I.M.F (Impossible Mission Force) has been tracking the suspicious activity of some extremely shady people for some time now, and we believe that this group is planning something big and dangerous. What's worse is that we have evidence that they may act upon these nasty ideas soon. I.M.F agents have intercepted the group's communication systems and have figured out that they have been exchanging a lot of messages that are encrypted using an unconventional technique called the [\"Ceaser cipher\"](https://en.wikipedia.org/wiki/Caesar_cipher). As the I.M.F's top cryptographer, your mission, _should you choose to accept it_, is to write some Python code that breaks their encryption so that I.M.F agents can successfully penetrate their operation and **save lives**."
   ]
  },
  {
   "cell_type": "markdown",
   "id": "ef14f711",
   "metadata": {},
   "source": [
    "### Part 1: Critical, top secret information about the encryption scheme\n",
    "\n",
    "* Ceaser ciphers have their origins in ancient Rome, when messages were physically written on parchment and carried by messengers on horseback. These were often the last line of defense if the messenger was captured, as the text in the message would be meaningless to the reader. The good news, for us, is that this encryption scheme is pretty simple to understand, and will probably be no trouble at all for the I.M.F's top cryptography expert, you!\n",
    "\n",
    "* To encrypt messages using this scheme, we take the following steps:\n",
    "    * Each letter in the original message (called \"plaintext\" in cryptography terminology) is numbered according to its position in the alphabet of the language the message is written in. In English, this would be `1 - 26` (or `0 - 25`, if you are a programmer), where `1` represents the first letter of the alphabet ('A') and `26` represents the last letter of the alphabet ('Z').\n",
    "    * Then, we pick a random integer `k` and add this integer to each of the indices of the letters in our message. The new indices we obtain indicate the index of the each of the letters to substitute in our original, that constitutes our encrypted message (called \"ciphertext\"). This integer is also referred to as the \"shift\", since it shifts one letter to another by its value.\n",
    "    \n",
    "    * An example one of our agents decrypted in the field:\n",
    "\n",
    "    | Message | Indices | Shift | Encrypted |\n",
    "    | ------- | ------- | ----- | --------- |\n",
    "    | H       | 8       | +2    | J         |\n",
    "    | E       | 5       | +2    | G         |\n",
    "    | L       | 11      | +2    | N         |\n",
    "    | L       | 11      | +2    | N         |\n",
    "    | O       | 14      | +2    | Q         |\n",
    "\n",
    "    Here, the group had selected a shift of `2` to encrypt their message, shifting each of the letters of the original message as shown.\n",
    "\n",
    "* A problem you may notice here, is that the random integer, `k` may be greater than the number of letters in the alphabet. In this case, you would \"wrap around\" the alphabet once you encounter the last letter and continue counting from the first letter.   \n",
    "    * Say the shift (`k`) that was chosen was `27`. In this case, the shifts would be performed as follows:\n",
    "     \n",
    "    | Message | Indices | Shift | Encrypted |\n",
    "    | ------- | ------- | ----- | --------- |\n",
    "    | H       | 8       | +27   | I         |\n",
    "    | E       | 5       | +27   | F         |\n",
    "    | L       | 11      | +27   | M         |\n",
    "    | L       | 11      | +27   | M         |\n",
    "    | O       | 14      | +27   | P         |\n",
    "    \n",
    "    When adding `27` to `H`, we encounter `Z` `18` letters in front - at this point, we wrap around back to `A` and count the remaining `9` letters forward, getting `I` as our result. This process is repeated for all the letters as before.\n",
    "\n",
    "**The following information was obtained by several of I.M.F's best field agents and some of them even gave their lives to get this information out. Treat this with the utmost importance!**\n",
    "   * Your code will have to account for the \"wrap around\" behavior to correctly decode many of the messages. Our field agents inform us that they heard the words _\"Python modulo operator\"_ many times when investigating within the circles that members of the group hang out with. Perhaps this is a clue to decrypting their messages more easily!\n",
    "\n",
    "   * One of our top field agents, Ethan Hunt, managed to infiltrate the group and extract some critical information from one of their top members. Here's what he managed to find out:\n",
    "       * All the messages the group has exchanged have been in English. All the words used in the messages are also `in` the dictionary. This information may enable you to devise a way to figure out when you've successfully decrypted the message.\n",
    "       * They do not use any punctuation marks or non-alphabetical symbols except the space character (\" \").\n",
    "       * The ciphertext contains both upper and lower case letters as a red-herring. The group actually writes all their messages entirely in lowercase - we expect your code to decode the messages correctly, despite this trickery!\n",
    "       \n",
    "   * Our agent's cover was unfortunately blown before he was able to intercept the shifts corresponding to the ciphertext messages, but he managed to inform us that each of the messages has a different shift. The code you write will have to deduce the shifts corresponding to each message automatically.\n"
   ]
  },
  {
   "cell_type": "markdown",
   "id": "cadf4282",
   "metadata": {},
   "source": [
    "### Part 2: Some crucial Python secrets\n",
    "\n",
    "* As you may have realized, you will need a way to represent letters as numbers in Python, to find out the indices of each letter of the word and then shift them.\n",
    "* Fortunately for us, this is already standardized way called [\"ASCII\"](https://www.youtube.com/watch?v=zB85kTs-sEw). that maps letters and symbols into numbers, [which you can see in a table like this](https://www.asciitable.com/).\n",
    "* Python makes it really easy for us to convert letters to numbers and vice versa.\n",
    "    * You can use the `ord()` method to convert a character to its ASCII value\n",
    "    * You can use the `chr()` method to convert an integer to a character, based on the ASCII table"
   ]
  },
  {
   "cell_type": "code",
   "execution_count": 1,
   "id": "26840922",
   "metadata": {},
   "outputs": [
    {
     "name": "stdout",
     "output_type": "stream",
     "text": [
      "ASCII value of A is: 65\n",
      "Character corresponding to: 65 is: A\n"
     ]
    }
   ],
   "source": [
    "# Convert a character to its ASCII value (integer)\n",
    "character = 'A'\n",
    "print(\"ASCII value of\", character, \"is:\", ord(character))\n",
    "\n",
    "# Convert an integer to a character based on the ASCII value\n",
    "ascii_value = 65\n",
    "print(\"Character corresponding to:\", ascii_value, \"is:\", chr(ascii_value))"
   ]
  },
  {
   "cell_type": "markdown",
   "id": "8591341d",
   "metadata": {},
   "source": [
    "### Part 3: Tips\n",
    "\n",
    "* You will have to use most of the Python concepts you have learned so far such as variables, conditional statements, loops (both while and for), functions and many types of operators.\n",
    "\n",
    "* There will be several new concepts you need to learn in order to correctly implement the decryption code. You are free to use any resources you like to look up how to do the things you do not know, or are unsure of. Sites such as StackOverflow, Wikipedia and YouTube are very good resources. Searching for \"&lt;result you want to achieve&gt; python\" is usually a great starting point. \n",
    "\n",
    "* Go through each step of the project closely, in order. Each stage is a stepping stone towards putting together the program you need to reveal the mysterious encrypted messages."
   ]
  },
  {
   "cell_type": "markdown",
   "id": "5841d8f7",
   "metadata": {},
   "source": [
    "### Project Helper Code\n",
    "* Given below is some code that will be used to help test the correctness of your implementation. You should ignore this section."
   ]
  },
  {
   "cell_type": "code",
   "execution_count": 2,
   "id": "4e2e04ab",
   "metadata": {},
   "outputs": [],
   "source": [
    "import project_1_tests"
   ]
  },
  {
   "cell_type": "markdown",
   "id": "ee57ddc0",
   "metadata": {},
   "source": [
    "## Project Code:\n",
    "\n",
    "### Step 1: Converting a letter into its \"natural\" index based on its position in the alphabet\n",
    "\n",
    "* One of the first things we need to do is to decrypt the messages is to change an letter into it corresponding index (starting at 0 for 'A' - 25 for 'Z').\n",
    "\n",
    "* Implement the `convert_to_natural_index` method here according to the requirements specified. You will use this method in later steps so make sure this works as expected.\n",
    "\n",
    "* If you implement this correctly, you will see the the entire mapping from letters to indices as the output of this cell."
   ]
  },
  {
   "cell_type": "code",
   "execution_count": 3,
   "id": "d9e9c4d7",
   "metadata": {},
   "outputs": [
    {
     "name": "stdout",
     "output_type": "stream",
     "text": [
      "❌ Your implementation produced incorrect output for: b\n",
      "Expected output: 1\n",
      "Output generated: 0\n"
     ]
    }
   ],
   "source": [
    "################################################\n",
    "\n",
    "# * This function takes a *letter* (str) as its only parameters.\n",
    "# * This function returns an integer value corresponding to the index of the letter in the English alphabet\n",
    "# * This function can assume it will only receive a *lowercase* letter\n",
    "\n",
    "def convert_to_natural_index(letter):\n",
    "    # You should change this code to produce the correct output.\n",
    "    return 0\n",
    "\n",
    "################################################\n",
    "\n",
    "################################################\n",
    "# This is a test for the code you have implemented.\n",
    "\n",
    "project_1_tests.test_convert_to_natural_index(convert_to_natural_index)\n",
    "\n",
    "################################################"
   ]
  },
  {
   "cell_type": "markdown",
   "id": "a8994704",
   "metadata": {},
   "source": [
    "### Step 2: Shift a letter by any given 'k' to encrypt the letter\n",
    "* The next step is to figure out a way to find the encrypted letter that corresponds to the shift 'k' as described above.\n",
    "* Refer to Parts 1 and 2 to get an idea about how to shift a letter (it has to work for *any* possible integer shift!)\n",
    "* Hint: You should try to use the previous function (once it has been correctly implemented) to help you in this step."
   ]
  },
  {
   "cell_type": "code",
   "execution_count": 10,
   "id": "fa0dfc7a",
   "metadata": {},
   "outputs": [
    {
     "name": "stdout",
     "output_type": "stream",
     "text": [
      "❌❌ Your implementation produced incorred output for: i (shift: 0)\n",
      "Expected output: i\n",
      "Output generated: a\n"
     ]
    }
   ],
   "source": [
    "################################################\n",
    "\n",
    "# * This function takes a *letter* (str) and a shift value *k* (integer) as parameters\n",
    "# * This function returns a letter (str) that has been shifted by the integer value specified\n",
    "# * This function can assume it will only receive a *lowercase* letter\n",
    "\n",
    "def shift_letter_by_k(letter, k):\n",
    "    # You should change this code to produce the correct output.\n",
    "    return 'a'\n",
    "\n",
    "################################################\n",
    "\n",
    "################################################\n",
    "# This is a test for the code you have implemented.\n",
    "\n",
    "project_1_tests.test_shift_letter_by_k(shift_letter_by_k)\n",
    "\n",
    "################################################"
   ]
  },
  {
   "cell_type": "markdown",
   "id": "35f203f0",
   "metadata": {},
   "source": [
    "### Step 3: Encrypt an entire word!\n",
    "* Now we are able to encrypt an entire word using the function we just implemented.\n",
    "* Remember, a word can contain both uppercase and lowercase letters. You will have to figure out a way to correctly work around this!"
   ]
  },
  {
   "cell_type": "code",
   "execution_count": 14,
   "id": "6478c14c",
   "metadata": {},
   "outputs": [
    {
     "name": "stdout",
     "output_type": "stream",
     "text": [
      "❌ Your implementation produced incorrect output for word: \"corner\" (shift: 225)\n",
      "Expected output: tfievi\n",
      "Output generated: corner\n"
     ]
    }
   ],
   "source": [
    "################################################\n",
    "\n",
    "# * This function takes a *word* (str) and a shift value *k* (integer) as parameters\n",
    "# * This function returns a completely encrypted word which has each of its letters shifted by the specified amount\n",
    "# * This function could receive words which have some uppercase and lowercase letters and your code will have to account\n",
    "#   for this.\n",
    "\n",
    "def encrypt_word(word, k):\n",
    "    # You should change this code to produce the correct output.\n",
    "    encrypted_word = word\n",
    "    return word\n",
    "\n",
    "################################################\n",
    "\n",
    "################################################\n",
    "# This is a test for the code you have implemented.\n",
    "\n",
    "project_1_tests.test_encrypt_word(encrypt_word)\n",
    "\n",
    "################################################"
   ]
  },
  {
   "cell_type": "code",
   "execution_count": 7,
   "id": "8783341f",
   "metadata": {},
   "outputs": [],
   "source": [
    "def load_dictionary():\n",
    "    return [ \"hello\", \"there\", \"general\", \"kenobi\" ]\n",
    "\n",
    "def shift_letters_in_word(word, shift):\n",
    "    word = word.lower()\n",
    "    encoded_word = \"\"\n",
    "    num_letters = 26\n",
    "    start_letter_ascii = ord('a')\n",
    "    # Shift each letter in the word by the specified number and store the result\n",
    "    for letter in word:\n",
    "        actual_letter_index = ord(letter) - start_letter_ascii\n",
    "        shifted_letter_index = (actual_letter_index + shift) % num_letters\n",
    "        shifted_letter_ascii = shifted_letter_index + start_letter_ascii\n",
    "        shifted_letter = chr(shifted_letter_ascii)\n",
    "        encoded_word = encoded_word + shifted_letter\n",
    "    return encoded_word\n",
    "\n",
    "def make_code(plaintext, shift):\n",
    "\n",
    "    words = plaintext.split(\" \")\n",
    "    changed_words = []\n",
    "    \n",
    "    for word in words:\n",
    "        changed_word = shift_letters_in_word(word, shift)\n",
    "        changed_words.append(changed_word)\n",
    "        \n",
    "    return \" \".join(changed_words)\n",
    "    \n",
    "def break_code(encoded_input):\n",
    "    dictionary = load_dictionary()\n",
    "    \n",
    "    # Break input sentence into \"words\" (separated by spaces)\n",
    "    words = encoded_input.split(\" \")\n",
    "    \n",
    "    # Normalize all the letters in the word to the same (lower) case\n",
    "    index = 0\n",
    "    while index < len(words):\n",
    "        words[index] = words[index].lower()\n",
    "        index = index + 1\n",
    "        \n",
    "    possible_shift = 0\n",
    "    num_letters = 26\n",
    "    \n",
    "    # Try all possible shifts\n",
    "    while possible_shift < num_letters:\n",
    "        changed_words = []\n",
    "        \n",
    "        # Go through all the words in the input\n",
    "        for word in words:\n",
    "            encoded_word = shift_letters_in_word(word, possible_shift)\n",
    "            changed_words.append(encoded_word)\n",
    "        \n",
    "        # Check if every decoded word exists in the dictionary\n",
    "        all_words_correct = True\n",
    "        for changed_word in changed_words:\n",
    "            all_words_correct = all_words_correct and (changed_word in dictionary)\n",
    "        # If all the words exist, this is our shift!\n",
    "        if all_words_correct:\n",
    "            return \" \".join(changed_words)\n",
    "        \n",
    "        possible_shift = possible_shift + 1\n",
    "        \n",
    "    return \"Could not break code!\" "
   ]
  },
  {
   "cell_type": "code",
   "execution_count": 8,
   "id": "1fbc8da8",
   "metadata": {},
   "outputs": [
    {
     "name": "stdout",
     "output_type": "stream",
     "text": [
      "Plaintext: Hello there General kenobi\n",
      "Encoded input: jgnnq vjgtg igpgtcn mgpqdk\n",
      "Decoded input: hello there general kenobi\n"
     ]
    }
   ],
   "source": [
    "plaintext = \"Hello there General kenobi\"\n",
    "print(\"Plaintext:\", plaintext)\n",
    "encoded_input = make_code(plaintext, 2)\n",
    "print(\"Encoded input:\", encoded_input)\n",
    "decoded_input = break_code(encoded_input)\n",
    "print(\"Decoded input:\", decoded_input)"
   ]
  },
  {
   "cell_type": "code",
   "execution_count": null,
   "id": "a37f1a26",
   "metadata": {},
   "outputs": [],
   "source": []
  }
 ],
 "metadata": {
  "kernelspec": {
   "display_name": "Python 3 (ipykernel)",
   "language": "python",
   "name": "python3"
  },
  "language_info": {
   "codemirror_mode": {
    "name": "ipython",
    "version": 3
   },
   "file_extension": ".py",
   "mimetype": "text/x-python",
   "name": "python",
   "nbconvert_exporter": "python",
   "pygments_lexer": "ipython3",
   "version": "3.9.7"
  }
 },
 "nbformat": 4,
 "nbformat_minor": 5
}
